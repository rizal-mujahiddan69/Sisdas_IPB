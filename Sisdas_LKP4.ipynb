{
  "nbformat": 4,
  "nbformat_minor": 0,
  "metadata": {
    "colab": {
      "name": "Sisdas_LKP4.ipynb",
      "provenance": []
    },
    "kernelspec": {
      "name": "python3",
      "display_name": "Python 3"
    },
    "language_info": {
      "name": "python"
    }
  },
  "cells": [
    {
      "cell_type": "code",
      "execution_count": 12,
      "metadata": {
        "id": "RsiRWc42wcWc"
      },
      "outputs": [],
      "source": [
        "from tensorflow.keras import Sequential as Sqtl\n",
        "from tensorflow.keras.layers import *\n",
        "from tensorflow.keras.utils import plot_model\n",
        "from tensorflow.keras import backend as K\n",
        "from tensorflow.keras.layers import Activation\n",
        "from tensorflow.keras.utils import get_custom_objects\n",
        "import datetime\n",
        "import tensorflow as tf\n",
        "import pandas as pd\n",
        "import numpy as np\n",
        "import matplotlib.pyplot as plt"
      ]
    },
    {
      "cell_type": "markdown",
      "source": [
        "## CUstom activitation"
      ],
      "metadata": {
        "id": "C_PRu3Xf3_qg"
      }
    },
    {
      "cell_type": "code",
      "source": [
        "#custom Activation yaaa\n",
        "def custom_activation(x):  \n",
        "    return ( (2/(1 + K.exp(-x))) -1)\n",
        "     \n",
        "get_custom_objects().update({'custom_activation': Activation(custom_activation)})"
      ],
      "metadata": {
        "id": "oe_543fH-WF_"
      },
      "execution_count": 13,
      "outputs": []
    },
    {
      "cell_type": "code",
      "source": [
        "datasetku = pd.DataFrame({\"x1\":[1],\"x2\":[0],\"y\":[0]})\n",
        "datasetku.head()"
      ],
      "metadata": {
        "colab": {
          "base_uri": "https://localhost:8080/",
          "height": 81
        },
        "id": "E2Zhy3b9-gGd",
        "outputId": "9b747fbb-e876-48d0-f493-75e44ad04987"
      },
      "execution_count": 14,
      "outputs": [
        {
          "output_type": "execute_result",
          "data": {
            "text/html": [
              "\n",
              "  <div id=\"df-a3f6d695-ebca-47c8-ad04-683c3b63bec7\">\n",
              "    <div class=\"colab-df-container\">\n",
              "      <div>\n",
              "<style scoped>\n",
              "    .dataframe tbody tr th:only-of-type {\n",
              "        vertical-align: middle;\n",
              "    }\n",
              "\n",
              "    .dataframe tbody tr th {\n",
              "        vertical-align: top;\n",
              "    }\n",
              "\n",
              "    .dataframe thead th {\n",
              "        text-align: right;\n",
              "    }\n",
              "</style>\n",
              "<table border=\"1\" class=\"dataframe\">\n",
              "  <thead>\n",
              "    <tr style=\"text-align: right;\">\n",
              "      <th></th>\n",
              "      <th>x1</th>\n",
              "      <th>x2</th>\n",
              "      <th>y</th>\n",
              "    </tr>\n",
              "  </thead>\n",
              "  <tbody>\n",
              "    <tr>\n",
              "      <th>0</th>\n",
              "      <td>1</td>\n",
              "      <td>0</td>\n",
              "      <td>0</td>\n",
              "    </tr>\n",
              "  </tbody>\n",
              "</table>\n",
              "</div>\n",
              "      <button class=\"colab-df-convert\" onclick=\"convertToInteractive('df-a3f6d695-ebca-47c8-ad04-683c3b63bec7')\"\n",
              "              title=\"Convert this dataframe to an interactive table.\"\n",
              "              style=\"display:none;\">\n",
              "        \n",
              "  <svg xmlns=\"http://www.w3.org/2000/svg\" height=\"24px\"viewBox=\"0 0 24 24\"\n",
              "       width=\"24px\">\n",
              "    <path d=\"M0 0h24v24H0V0z\" fill=\"none\"/>\n",
              "    <path d=\"M18.56 5.44l.94 2.06.94-2.06 2.06-.94-2.06-.94-.94-2.06-.94 2.06-2.06.94zm-11 1L8.5 8.5l.94-2.06 2.06-.94-2.06-.94L8.5 2.5l-.94 2.06-2.06.94zm10 10l.94 2.06.94-2.06 2.06-.94-2.06-.94-.94-2.06-.94 2.06-2.06.94z\"/><path d=\"M17.41 7.96l-1.37-1.37c-.4-.4-.92-.59-1.43-.59-.52 0-1.04.2-1.43.59L10.3 9.45l-7.72 7.72c-.78.78-.78 2.05 0 2.83L4 21.41c.39.39.9.59 1.41.59.51 0 1.02-.2 1.41-.59l7.78-7.78 2.81-2.81c.8-.78.8-2.07 0-2.86zM5.41 20L4 18.59l7.72-7.72 1.47 1.35L5.41 20z\"/>\n",
              "  </svg>\n",
              "      </button>\n",
              "      \n",
              "  <style>\n",
              "    .colab-df-container {\n",
              "      display:flex;\n",
              "      flex-wrap:wrap;\n",
              "      gap: 12px;\n",
              "    }\n",
              "\n",
              "    .colab-df-convert {\n",
              "      background-color: #E8F0FE;\n",
              "      border: none;\n",
              "      border-radius: 50%;\n",
              "      cursor: pointer;\n",
              "      display: none;\n",
              "      fill: #1967D2;\n",
              "      height: 32px;\n",
              "      padding: 0 0 0 0;\n",
              "      width: 32px;\n",
              "    }\n",
              "\n",
              "    .colab-df-convert:hover {\n",
              "      background-color: #E2EBFA;\n",
              "      box-shadow: 0px 1px 2px rgba(60, 64, 67, 0.3), 0px 1px 3px 1px rgba(60, 64, 67, 0.15);\n",
              "      fill: #174EA6;\n",
              "    }\n",
              "\n",
              "    [theme=dark] .colab-df-convert {\n",
              "      background-color: #3B4455;\n",
              "      fill: #D2E3FC;\n",
              "    }\n",
              "\n",
              "    [theme=dark] .colab-df-convert:hover {\n",
              "      background-color: #434B5C;\n",
              "      box-shadow: 0px 1px 3px 1px rgba(0, 0, 0, 0.15);\n",
              "      filter: drop-shadow(0px 1px 2px rgba(0, 0, 0, 0.3));\n",
              "      fill: #FFFFFF;\n",
              "    }\n",
              "  </style>\n",
              "\n",
              "      <script>\n",
              "        const buttonEl =\n",
              "          document.querySelector('#df-a3f6d695-ebca-47c8-ad04-683c3b63bec7 button.colab-df-convert');\n",
              "        buttonEl.style.display =\n",
              "          google.colab.kernel.accessAllowed ? 'block' : 'none';\n",
              "\n",
              "        async function convertToInteractive(key) {\n",
              "          const element = document.querySelector('#df-a3f6d695-ebca-47c8-ad04-683c3b63bec7');\n",
              "          const dataTable =\n",
              "            await google.colab.kernel.invokeFunction('convertToInteractive',\n",
              "                                                     [key], {});\n",
              "          if (!dataTable) return;\n",
              "\n",
              "          const docLinkHtml = 'Like what you see? Visit the ' +\n",
              "            '<a target=\"_blank\" href=https://colab.research.google.com/notebooks/data_table.ipynb>data table notebook</a>'\n",
              "            + ' to learn more about interactive tables.';\n",
              "          element.innerHTML = '';\n",
              "          dataTable['output_type'] = 'display_data';\n",
              "          await google.colab.output.renderOutput(dataTable, element);\n",
              "          const docLink = document.createElement('div');\n",
              "          docLink.innerHTML = docLinkHtml;\n",
              "          element.appendChild(docLink);\n",
              "        }\n",
              "      </script>\n",
              "    </div>\n",
              "  </div>\n",
              "  "
            ],
            "text/plain": [
              "   x1  x2  y\n",
              "0   1   0  0"
            ]
          },
          "metadata": {},
          "execution_count": 14
        }
      ]
    },
    {
      "cell_type": "markdown",
      "source": [
        "## pembuatan Neural Network"
      ],
      "metadata": {
        "id": "oBPyt35R4JT2"
      }
    },
    {
      "cell_type": "code",
      "source": [
        "initku1 = tf.constant_initializer(np.array([[0.2,0.2,0.1],[0.3,0.1,-0.1]]))\n",
        "initku2 = tf.constant_initializer(np.array([[0.2],[-0.1],[-0.2]]))\n",
        "\n",
        "bias1 = tf.constant_initializer(np.array([[-0.3],[0.3],[0.3]]))\n",
        "bias2 = tf.constant_initializer(np.array([[-0.1]]))\n",
        "\n",
        "model = Sqtl([Dense(3,input_dim=2,\n",
        "                    activation=\"custom_activation\",\n",
        "                    kernel_initializer=initku1,\n",
        "                    bias_initializer=bias1,\n",
        "),\n",
        "              Dense(1,activation=\"custom_activation\",\n",
        "                    kernel_initializer = initku2,\n",
        "                    bias_initializer=bias2\n",
        ")])\n",
        "\n",
        "model2 = Sqtl([Dense(3,input_dim=2,\n",
        "                    activation=\"custom_activation\",\n",
        "                    kernel_initializer=initku1,\n",
        "                    bias_initializer=bias1,\n",
        "),\n",
        "              Dense(1,activation=\"custom_activation\",\n",
        "                    kernel_initializer = initku2,\n",
        "                    bias_initializer=bias2\n",
        ")])\n"
      ],
      "metadata": {
        "id": "7tSTxhfc-eTV"
      },
      "execution_count": 15,
      "outputs": []
    },
    {
      "cell_type": "markdown",
      "source": [
        "## WEight yaaa"
      ],
      "metadata": {
        "id": "cLsbc65K4L9f"
      }
    },
    {
      "cell_type": "code",
      "source": [
        "model.layers[0].get_weights()"
      ],
      "metadata": {
        "colab": {
          "base_uri": "https://localhost:8080/"
        },
        "id": "aJgJx82h_4Lm",
        "outputId": "8867b6d9-c490-4b32-9870-df43ff483da1"
      },
      "execution_count": 16,
      "outputs": [
        {
          "output_type": "execute_result",
          "data": {
            "text/plain": [
              "[array([[ 0.2,  0.2,  0.1],\n",
              "        [ 0.3,  0.1, -0.1]], dtype=float32),\n",
              " array([-0.3,  0.3,  0.3], dtype=float32)]"
            ]
          },
          "metadata": {},
          "execution_count": 16
        }
      ]
    },
    {
      "cell_type": "code",
      "source": [
        "model.layers[1].get_weights()"
      ],
      "metadata": {
        "colab": {
          "base_uri": "https://localhost:8080/"
        },
        "id": "jv15at6zAMyu",
        "outputId": "5c9ad332-cf39-422a-ecd1-65df198b24ca"
      },
      "execution_count": 17,
      "outputs": [
        {
          "output_type": "execute_result",
          "data": {
            "text/plain": [
              "[array([[ 0.2],\n",
              "        [-0.1],\n",
              "        [-0.2]], dtype=float32), array([-0.1], dtype=float32)]"
            ]
          },
          "metadata": {},
          "execution_count": 17
        }
      ]
    },
    {
      "cell_type": "markdown",
      "source": [
        "## model itu untuk perhitungan feedforward\n",
        "## model2 itu untuk perhitungan backpropagation\n",
        "\n"
      ],
      "metadata": {
        "id": "ejo0e9hq4Oef"
      }
    },
    {
      "cell_type": "code",
      "source": [
        "model.layers[1].trainable = False\n",
        "model.layers[0].trainable = False\n",
        "\n",
        "print(model2.layers[1].trainable)\n",
        "print(model2.layers[0].trainable)"
      ],
      "metadata": {
        "id": "GXNokwpLaeDr",
        "colab": {
          "base_uri": "https://localhost:8080/"
        },
        "outputId": "28f97d3d-d12a-4593-de75-c64cd384af38"
      },
      "execution_count": 18,
      "outputs": [
        {
          "output_type": "stream",
          "name": "stdout",
          "text": [
            "True\n",
            "True\n"
          ]
        }
      ]
    },
    {
      "cell_type": "markdown",
      "source": [
        "## fitting"
      ],
      "metadata": {
        "id": "DpS8WmCe4cNj"
      }
    },
    {
      "cell_type": "code",
      "source": [
        "optimum = tf.keras.optimizers.SGD(learning_rate=0.4)\n",
        "model.compile(loss='mse',optimizer=optimum,metrics=['accuracy'])\n",
        "model2.compile(loss='mse',optimizer=optimum,metrics=['accuracy'])\n",
        "historyku = model.fit(datasetku[[\"x1\",\"x2\"]],\n",
        "                      datasetku[[\"y\"]],epochs=1)\n",
        "historyku2 = model2.fit(datasetku[[\"x1\",\"x2\"]],\n",
        "                      datasetku[[\"y\"]],epochs=1)"
      ],
      "metadata": {
        "colab": {
          "base_uri": "https://localhost:8080/"
        },
        "id": "hyYRiTBqAYbS",
        "outputId": "b291c556-c5b9-4fab-dc82-2a0a780861a8"
      },
      "execution_count": 19,
      "outputs": [
        {
          "output_type": "stream",
          "name": "stdout",
          "text": [
            "1/1 [==============================] - 0s 378ms/step - loss: 0.0075 - accuracy: 1.0000\n",
            "1/1 [==============================] - 0s 431ms/step - loss: 0.0075 - accuracy: 1.0000\n"
          ]
        }
      ]
    },
    {
      "cell_type": "code",
      "source": [
        "print(model.layers[0].get_weights())\n",
        "print('\\n')\n",
        "print(model.layers[1].get_weights())"
      ],
      "metadata": {
        "colab": {
          "base_uri": "https://localhost:8080/"
        },
        "id": "X7Ua_BakAxIJ",
        "outputId": "fda5b953-19d7-4c74-ad88-ff9e329d14a7"
      },
      "execution_count": 20,
      "outputs": [
        {
          "output_type": "stream",
          "name": "stdout",
          "text": [
            "[array([[ 0.2,  0.2,  0.1],\n",
            "       [ 0.3,  0.1, -0.1]], dtype=float32), array([-0.3,  0.3,  0.3], dtype=float32)]\n",
            "\n",
            "\n",
            "[array([[ 0.2],\n",
            "       [-0.1],\n",
            "       [-0.2]], dtype=float32), array([-0.1], dtype=float32)]\n"
          ]
        }
      ]
    },
    {
      "cell_type": "markdown",
      "source": [
        "## Hasil Weight Backpropagation "
      ],
      "metadata": {
        "id": "vbhSzRan3qA4"
      }
    },
    {
      "cell_type": "code",
      "source": [
        "print('Weight Backpropagation',model2.layers[0].get_weights()[0])\n",
        "print('Bias Backpropagation',model2.layers[0].get_weights()[1])\n",
        "\n",
        "print('\\n')\n",
        "print('Weight Backpropagation',model2.layers[1].get_weights()[0])\n",
        "print('Bias Backpropagation',model2.layers[1].get_weights()[1])"
      ],
      "metadata": {
        "colab": {
          "base_uri": "https://localhost:8080/"
        },
        "id": "lofqLR9bAxxL",
        "outputId": "2e613899-9918-4f43-9e08-ed44e34dc5d5"
      },
      "execution_count": 21,
      "outputs": [
        {
          "output_type": "stream",
          "name": "stdout",
          "text": [
            "Weight Backpropagation [[ 0.2034357   0.19838116  0.09668988]\n",
            " [ 0.3         0.1        -0.1       ]]\n",
            "Bias Backpropagation [-0.2965643   0.29838118  0.2966899 ]\n",
            "\n",
            "\n",
            "Weight Backpropagation [[ 0.19827929]\n",
            " [-0.09156427]\n",
            " [-0.19320181]]\n",
            "Bias Backpropagation [-0.065557]\n"
          ]
        }
      ]
    },
    {
      "cell_type": "markdown",
      "source": [
        "## Hasilnya\n",
        "\n",
        "variable hasil_feed itu Hasil Dari Feedforward yaaa\n",
        "\n",
        "variable hasil_feed itu Hasil Dari Backpropagation yaaa\n"
      ],
      "metadata": {
        "id": "SJ20sZJS3ZIB"
      }
    },
    {
      "cell_type": "code",
      "source": [
        "hasil_feed = model.predict(datasetku.iloc[:,:2])\n",
        "hasil_back = model2.predict(datasetku.iloc[:,:2])\n",
        "\n",
        "print(\"hasil feed =\",hasil_feed[0,0])\n",
        "print(\"hasil back =\",hasil_back[0,0])"
      ],
      "metadata": {
        "colab": {
          "base_uri": "https://localhost:8080/"
        },
        "id": "5AiHU4yZIEky",
        "outputId": "178959c0-f117-4493-e996-3edb92f5acb5"
      },
      "execution_count": 22,
      "outputs": [
        {
          "output_type": "stream",
          "name": "stdout",
          "text": [
            "hasil feed = -0.08676058\n",
            "hasil back = -0.067192435\n"
          ]
        }
      ]
    }
  ]
}